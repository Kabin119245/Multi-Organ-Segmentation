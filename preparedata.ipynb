{
 "cells": [
  {
   "cell_type": "code",
   "execution_count": 2,
   "id": "c716e06b-b927-4b80-a0aa-359011d37615",
   "metadata": {},
   "outputs": [
    {
     "name": "stdout",
     "output_type": "stream",
     "text": [
      "Collecting glob2\n",
      "  Downloading glob2-0.7.tar.gz (10 kB)\n",
      "  Preparing metadata (setup.py) ... \u001b[?25ldone\n",
      "\u001b[?25hBuilding wheels for collected packages: glob2\n",
      "  Building wheel for glob2 (setup.py) ... \u001b[?25ldone\n",
      "\u001b[?25h  Created wheel for glob2: filename=glob2-0.7-py2.py3-none-any.whl size=9301 sha256=118baec08ba5b88430589174e7bcc187223f0c2ac7586e6b7b7f0a0b103e465f\n",
      "  Stored in directory: /home/kabin/.cache/pip/wheels/96/41/06/9f8fddc6eb1d75bde63db7f491311a4ae26905212617e06eb2\n",
      "Successfully built glob2\n",
      "Installing collected packages: glob2\n",
      "Successfully installed glob2-0.7\n"
     ]
    }
   ],
   "source": [
    "!pip3 install glob2\n"
   ]
  },
  {
   "cell_type": "code",
   "execution_count": 47,
   "id": "be7fc57a-09a3-429a-97fa-7ef5ef4c0a14",
   "metadata": {},
   "outputs": [
    {
     "name": "stdout",
     "output_type": "stream",
     "text": [
      "Requirement already satisfied: nibabel in ./anaconda3/lib/python3.11/site-packages (5.2.0)\n",
      "Requirement already satisfied: numpy>=1.20 in ./anaconda3/lib/python3.11/site-packages (from nibabel) (1.26.3)\n",
      "Requirement already satisfied: packaging>=17 in ./anaconda3/lib/python3.11/site-packages (from nibabel) (23.1)\n"
     ]
    }
   ],
   "source": [
    "!pip install nibabel"
   ]
  },
  {
   "cell_type": "code",
   "execution_count": 3,
   "id": "450abf53-251d-4437-97db-f04180e47662",
   "metadata": {
    "scrolled": true
   },
   "outputs": [
    {
     "name": "stdout",
     "output_type": "stream",
     "text": [
      "Collecting pytest-shutil\n",
      "  Downloading pytest_shutil-1.7.0-py2.py3-none-any.whl (15 kB)\n",
      "Requirement already satisfied: six in ./anaconda3/lib/python3.11/site-packages (from pytest-shutil) (1.16.0)\n",
      "Collecting execnet (from pytest-shutil)\n",
      "  Obtaining dependency information for execnet from https://files.pythonhosted.org/packages/e8/9c/a079946da30fac4924d92dbc617e5367d454954494cf1e71567bcc4e00ee/execnet-2.0.2-py3-none-any.whl.metadata\n",
      "  Downloading execnet-2.0.2-py3-none-any.whl.metadata (2.9 kB)\n",
      "Collecting contextlib2 (from pytest-shutil)\n",
      "  Downloading contextlib2-21.6.0-py2.py3-none-any.whl (13 kB)\n",
      "Requirement already satisfied: pytest in ./anaconda3/lib/python3.11/site-packages (from pytest-shutil) (7.4.0)\n",
      "Collecting path.py (from pytest-shutil)\n",
      "  Downloading path.py-12.5.0-py3-none-any.whl (2.3 kB)\n",
      "Collecting mock (from pytest-shutil)\n",
      "  Obtaining dependency information for mock from https://files.pythonhosted.org/packages/6b/20/471f41173930550f279ccb65596a5ac19b9ac974a8d93679bcd3e0c31498/mock-5.1.0-py3-none-any.whl.metadata\n",
      "  Downloading mock-5.1.0-py3-none-any.whl.metadata (3.0 kB)\n",
      "Collecting termcolor (from pytest-shutil)\n",
      "  Obtaining dependency information for termcolor from https://files.pythonhosted.org/packages/d9/5f/8c716e47b3a50cbd7c146f45881e11d9414def768b7cd9c5e6650ec2a80a/termcolor-2.4.0-py3-none-any.whl.metadata\n",
      "  Downloading termcolor-2.4.0-py3-none-any.whl.metadata (6.1 kB)\n",
      "Collecting path (from path.py->pytest-shutil)\n",
      "  Obtaining dependency information for path from https://files.pythonhosted.org/packages/9c/b1/bd656b3187552080182d3d30f2ac4dd5a239fd0ae3ef773602b8882d4644/path-16.9.0-py3-none-any.whl.metadata\n",
      "  Downloading path-16.9.0-py3-none-any.whl.metadata (6.7 kB)\n",
      "Requirement already satisfied: iniconfig in ./anaconda3/lib/python3.11/site-packages (from pytest->pytest-shutil) (1.1.1)\n",
      "Requirement already satisfied: packaging in ./anaconda3/lib/python3.11/site-packages (from pytest->pytest-shutil) (23.1)\n",
      "Requirement already satisfied: pluggy<2.0,>=0.12 in ./anaconda3/lib/python3.11/site-packages (from pytest->pytest-shutil) (1.0.0)\n",
      "Downloading execnet-2.0.2-py3-none-any.whl (37 kB)\n",
      "Downloading mock-5.1.0-py3-none-any.whl (30 kB)\n",
      "Downloading termcolor-2.4.0-py3-none-any.whl (7.7 kB)\n",
      "Downloading path-16.9.0-py3-none-any.whl (24 kB)\n",
      "Installing collected packages: termcolor, path, mock, execnet, contextlib2, path.py, pytest-shutil\n",
      "Successfully installed contextlib2-21.6.0 execnet-2.0.2 mock-5.1.0 path-16.9.0 path.py-12.5.0 pytest-shutil-1.7.0 termcolor-2.4.0\n"
     ]
    }
   ],
   "source": [
    "!pip install pytest-shutil\n"
   ]
  },
  {
   "cell_type": "code",
   "execution_count": 29,
   "id": "bafd3098-e549-42fd-8267-13ee0fceb28b",
   "metadata": {},
   "outputs": [
    {
     "name": "stdout",
     "output_type": "stream",
     "text": [
      "Requirement already satisfied: dicom2nifti in ./anaconda3/lib/python3.11/site-packages (2.4.10)\n",
      "Requirement already satisfied: nibabel in ./anaconda3/lib/python3.11/site-packages (from dicom2nifti) (5.2.0)\n",
      "Requirement already satisfied: numpy in ./anaconda3/lib/python3.11/site-packages (from dicom2nifti) (1.26.3)\n",
      "Requirement already satisfied: scipy in ./anaconda3/lib/python3.11/site-packages (from dicom2nifti) (1.11.4)\n",
      "Requirement already satisfied: pydicom>=2.2.0 in ./anaconda3/lib/python3.11/site-packages (from dicom2nifti) (2.4.4)\n",
      "Requirement already satisfied: python-gdcm in ./anaconda3/lib/python3.11/site-packages (from dicom2nifti) (3.0.23)\n",
      "Requirement already satisfied: packaging>=17 in ./anaconda3/lib/python3.11/site-packages (from nibabel->dicom2nifti) (23.1)\n"
     ]
    }
   ],
   "source": [
    "!pip install dicom2nifti "
   ]
  },
  {
   "cell_type": "code",
   "execution_count": 48,
   "id": "ef290a33-0ca5-4115-87eb-04d9d7293559",
   "metadata": {},
   "outputs": [],
   "source": [
    "from glob import glob\n",
    "import shutil\n",
    "import os\n",
    "import dicom2nifti\n",
    "import nibabel"
   ]
  },
  {
   "cell_type": "code",
   "execution_count": 7,
   "id": "279250f1-9435-489f-9f02-afbc338b2130",
   "metadata": {},
   "outputs": [
    {
     "name": "stdout",
     "output_type": "stream",
     "text": [
      "/mnt/myhdd/Abdominal_1k/dicom_file/labels/Case_00102\n"
     ]
    }
   ],
   "source": [
    "patient_list = sorted(glob(in_path+'/*'))\n",
    "print(patient_list[1])\n"
   ]
  },
  {
   "cell_type": "code",
   "execution_count": 40,
   "id": "c1120990-82cf-442d-94b8-45d4f89e632c",
   "metadata": {},
   "outputs": [],
   "source": [
    "####FOR images\n",
    "import os\n",
    "import shutil\n",
    "from glob import glob\n",
    "in_dir = \"/mnt/myhdd/Abdominal_1k/dicom_file/images/\"\n",
    "out_dir = \"/mnt/myhdd/Abdominal_1k/dicom_groups/images/\"\n",
    "Number_slices = 64\n",
    "\n",
    "for patient in sorted(glob(in_dir + '/*')):\n",
    "    patient_name = os.path.basename(os.path.normpath(patient))\n",
    "\n",
    "    # Here we need to calculate the number of folders which mean into how many groups we will divide the number of slices\n",
    "    number_folders = int(len(sorted(glob(patient + '/*'))) / Number_slices)\n",
    "\n",
    "    for i in range(number_folders):\n",
    "        output_path = os.path.join(out_dir, patient_name + '_' + str(i))\n",
    "        os.mkdir(output_path)\n",
    "\n",
    "        # Move the slices into a specific folder so that you will save memory in your desk\n",
    "        for i, file in enumerate(sorted((glob(patient + '/*')))):\n",
    "            if i == Number_slices + 1:\n",
    "                break\n",
    "            \n",
    "            shutil.move(file, output_path)\n",
    "\n",
    "        \n"
   ]
  },
  {
   "cell_type": "code",
   "execution_count": 43,
   "id": "36db5773-b526-4e8e-acfe-80b33e64bc11",
   "metadata": {},
   "outputs": [],
   "source": [
    "####FOR labels\n",
    "import os\n",
    "import shutil\n",
    "from glob import glob\n",
    "in_dir = \"/mnt/myhdd/Abdominal_1k/dicom_file/labels/\"\n",
    "out_dir = \"/mnt/myhdd/Abdominal_1k/dicom_groups/labels/\"\n",
    "Number_slices = 64\n",
    "\n",
    "for patient in sorted(glob(in_dir + '/*')):\n",
    "    patient_name = os.path.basename(os.path.normpath(patient))\n",
    "\n",
    "    # Here we need to calculate the number of folders which mean into how many groups we will divide the number of slices\n",
    "    number_folders = int(len(sorted(glob(patient + '/*'))) / Number_slices)\n",
    "\n",
    "    for i in range(number_folders):\n",
    "        output_path = os.path.join(out_dir, patient_name + '_' + str(i))\n",
    "        os.mkdir(output_path)\n",
    "\n",
    "        # Move the slices into a specific folder so that you will save memory in your desk\n",
    "        for i, file in enumerate(sorted((glob(patient + '/*')))):\n",
    "            if i == Number_slices + 1:\n",
    "                break\n",
    "            \n",
    "            shutil.move(file, output_path)\n",
    "\n",
    "        \n"
   ]
  },
  {
   "cell_type": "code",
   "execution_count": null,
   "id": "4f058e3b-f059-4b86-b3d0-29c0b6833eea",
   "metadata": {},
   "outputs": [],
   "source": [
    "#for labels\n",
    "in_path_labels = \"/mnt/myhdd/Abdominal_1k/dicom_groups/labels/*\"\n",
    "out_path_images = \"/mnt/myhdd/Abdominal_1k/nifti_files/labels/\"\n",
    "# print(sorted(glob(in_path_images)))\n",
    "import dicom2nifti\n",
    "import os\n",
    "\n",
    "\n",
    "for i,patient in enumerate(sorted(glob(in_path_images))):\n",
    "    patient_name = os.path.basename(os.path.normpath(patient))\n",
    "    dicom2nifti.dicom_series_to_nifti(patient,os.path.join(out_path_images,patient_name + '.nii.gz'))\n",
    "    \n",
    "# patient_folders = os.listdir()\n",
    "# for patient in patient_folder:\n",
    "#     patient_name = os.path.basename(os.path.normpath(patient))\n",
    "#     dicom2nifti.dicom_series_to_nifti(patient,os.path.join(out_path_images,patient_name + '.nii.gz'))"
   ]
  },
  {
   "cell_type": "code",
   "execution_count": 44,
   "id": "c14e3825-cd07-46a4-a9c6-b10f4efe43aa",
   "metadata": {},
   "outputs": [],
   "source": [
    "#for labels\n",
    "in_path_labels = \"/mnt/myhdd/Abdominal_1k/dicom_groups/images/*\"\n",
    "out_path_images = \"/mnt/myhdd/Abdominal_1k/nifti_files/images/\"\n",
    "# print(sorted(glob(in_path_images)))\n",
    "import dicom2nifti\n",
    "import os\n",
    "\n",
    "\n",
    "for i,patient in enumerate(sorted(glob(in_path_images))):\n",
    "    patient_name = os.path.basename(os.path.normpath(patient))\n",
    "    dicom2nifti.dicom_series_to_nifti(patient,os.path.join(out_path_images,patient_name + '.nii.gz'))\n",
    "    \n",
    "# patient_folders = os.listdir()\n",
    "# for patient in patient_folder:\n",
    "#     patient_name = os.path.basename(os.path.normpath(patient))\n",
    "#     dicom2nifti.dicom_series_to_nifti(patient,os.path.join(out_path_images,patient_name + '.nii.gz'))"
   ]
  },
  {
   "cell_type": "markdown",
   "id": "959165e6-78ba-4607-b4bb-ad7013795256",
   "metadata": {},
   "source": [
    "FIND EMPTY\n"
   ]
  },
  {
   "cell_type": "code",
   "execution_count": null,
   "id": "2a78f482-46f3-4da3-93b4-d66b0728fb25",
   "metadata": {},
   "outputs": [],
   "source": []
  }
 ],
 "metadata": {
  "kernelspec": {
   "display_name": "Python 3 (ipykernel)",
   "language": "python",
   "name": "python3"
  },
  "language_info": {
   "codemirror_mode": {
    "name": "ipython",
    "version": 3
   },
   "file_extension": ".py",
   "mimetype": "text/x-python",
   "name": "python",
   "nbconvert_exporter": "python",
   "pygments_lexer": "ipython3",
   "version": "3.11.5"
  }
 },
 "nbformat": 4,
 "nbformat_minor": 5
}
